{
 "cells": [
  {
   "cell_type": "markdown",
   "metadata": {},
   "source": [
    "# Homework 7, Part Two: A dataset about dogs.\n",
    "\n",
    "Data from [a FOIL request to New York City](https://www.muckrock.com/foi/new-york-city-17/pet-licensing-data-for-new-york-city-23826/).\n",
    "\n",
    "Some of the questions get kind of weird in this one, especially later on. **Feel free to lean on ChatGPT for the crazier ones!** It might be an interesting exploration of how to ask problems or explain what your dataset looks like."
   ]
  },
  {
   "cell_type": "markdown",
   "metadata": {},
   "source": [
    "## Do your importing and your setup"
   ]
  },
  {
   "cell_type": "code",
   "execution_count": 1,
   "metadata": {},
   "outputs": [],
   "source": [
    "import pandas as pd\n",
    "df = pd.read_excel('NYC_Dog_Licenses_Current_as_of_4-28-2016.xlsx')"
   ]
  },
  {
   "cell_type": "markdown",
   "metadata": {},
   "source": [
    "## Read in the file `NYC_Dog_Licenses_Current_as_of_4-28-2016.xlsx` and look at the first five rows"
   ]
  },
  {
   "cell_type": "code",
   "execution_count": 7,
   "metadata": {},
   "outputs": [
    {
     "data": {
      "text/html": [
       "<div>\n",
       "<style scoped>\n",
       "    .dataframe tbody tr th:only-of-type {\n",
       "        vertical-align: middle;\n",
       "    }\n",
       "\n",
       "    .dataframe tbody tr th {\n",
       "        vertical-align: top;\n",
       "    }\n",
       "\n",
       "    .dataframe thead th {\n",
       "        text-align: right;\n",
       "    }\n",
       "</style>\n",
       "<table border=\"1\" class=\"dataframe\">\n",
       "  <thead>\n",
       "    <tr style=\"text-align: right;\">\n",
       "      <th></th>\n",
       "      <th>Owner Zip Code</th>\n",
       "      <th>Animal Name</th>\n",
       "      <th>Animal Gender</th>\n",
       "      <th>Primary Breed</th>\n",
       "      <th>Secondary Breed</th>\n",
       "      <th>Animal Dominant Color</th>\n",
       "      <th>Animal Secondary Color</th>\n",
       "      <th>Animal Third Color</th>\n",
       "      <th>Animal Birth</th>\n",
       "      <th>Spayed or Neut</th>\n",
       "      <th>Guard or Trained</th>\n",
       "      <th>Vaccinated</th>\n",
       "      <th>Application Date</th>\n",
       "      <th>License Issued Date</th>\n",
       "      <th>License Expired Date</th>\n",
       "    </tr>\n",
       "  </thead>\n",
       "  <tbody>\n",
       "    <tr>\n",
       "      <th>0</th>\n",
       "      <td>10024</td>\n",
       "      <td>BLUE MACK</td>\n",
       "      <td>M</td>\n",
       "      <td>Unknown</td>\n",
       "      <td>AIREDALE TERR</td>\n",
       "      <td>BROWN</td>\n",
       "      <td>BLACK</td>\n",
       "      <td>NaN</td>\n",
       "      <td>2007-11-01</td>\n",
       "      <td>Yes</td>\n",
       "      <td>No</td>\n",
       "      <td>Yes</td>\n",
       "      <td>2012-09-19 16:01:19.647</td>\n",
       "      <td>2015-09-19</td>\n",
       "      <td>2016-09-19</td>\n",
       "    </tr>\n",
       "    <tr>\n",
       "      <th>1</th>\n",
       "      <td>10461</td>\n",
       "      <td>Indie Zephir</td>\n",
       "      <td>M</td>\n",
       "      <td>Rottweiler</td>\n",
       "      <td>NaN</td>\n",
       "      <td>BLACK</td>\n",
       "      <td>TAN</td>\n",
       "      <td>NaN</td>\n",
       "      <td>2013-04-01</td>\n",
       "      <td>No</td>\n",
       "      <td>No</td>\n",
       "      <td>Yes</td>\n",
       "      <td>2013-09-20 11:41:36.647</td>\n",
       "      <td>2014-09-20</td>\n",
       "      <td>2018-09-20</td>\n",
       "    </tr>\n",
       "    <tr>\n",
       "      <th>2</th>\n",
       "      <td>10013</td>\n",
       "      <td>Bilal</td>\n",
       "      <td>M</td>\n",
       "      <td>Australian Cattledog</td>\n",
       "      <td>NaN</td>\n",
       "      <td>Rust</td>\n",
       "      <td>NaN</td>\n",
       "      <td>NaN</td>\n",
       "      <td>2014-09-01</td>\n",
       "      <td>Yes</td>\n",
       "      <td>NaN</td>\n",
       "      <td>No</td>\n",
       "      <td>2014-09-12 13:13:36.713</td>\n",
       "      <td>2014-09-12</td>\n",
       "      <td>2019-09-12</td>\n",
       "    </tr>\n",
       "    <tr>\n",
       "      <th>3</th>\n",
       "      <td>10025</td>\n",
       "      <td>Buddy</td>\n",
       "      <td>M</td>\n",
       "      <td>Unknown</td>\n",
       "      <td>Cockapoo</td>\n",
       "      <td>BLOND</td>\n",
       "      <td>WHITE</td>\n",
       "      <td>NaN</td>\n",
       "      <td>2008-04-01</td>\n",
       "      <td>Yes</td>\n",
       "      <td>No</td>\n",
       "      <td>Yes</td>\n",
       "      <td>2014-09-12 15:26:51.417</td>\n",
       "      <td>2014-09-12</td>\n",
       "      <td>2017-10-20</td>\n",
       "    </tr>\n",
       "    <tr>\n",
       "      <th>4</th>\n",
       "      <td>10013</td>\n",
       "      <td>Ali</td>\n",
       "      <td>M</td>\n",
       "      <td>Basenji</td>\n",
       "      <td>NaN</td>\n",
       "      <td>Black</td>\n",
       "      <td>NaN</td>\n",
       "      <td>NaN</td>\n",
       "      <td>2014-01-01</td>\n",
       "      <td>No</td>\n",
       "      <td>NaN</td>\n",
       "      <td>No</td>\n",
       "      <td>2014-09-12 15:43:17.707</td>\n",
       "      <td>2014-09-12</td>\n",
       "      <td>2019-09-12</td>\n",
       "    </tr>\n",
       "  </tbody>\n",
       "</table>\n",
       "</div>"
      ],
      "text/plain": [
       "   Owner Zip Code   Animal Name Animal Gender         Primary Breed  \\\n",
       "0           10024     BLUE MACK             M               Unknown   \n",
       "1           10461  Indie Zephir             M            Rottweiler   \n",
       "2           10013         Bilal             M  Australian Cattledog   \n",
       "3           10025         Buddy             M               Unknown   \n",
       "4           10013           Ali             M               Basenji   \n",
       "\n",
       "  Secondary Breed Animal Dominant Color Animal Secondary Color  \\\n",
       "0   AIREDALE TERR                 BROWN                  BLACK   \n",
       "1             NaN                 BLACK                    TAN   \n",
       "2             NaN                  Rust                    NaN   \n",
       "3        Cockapoo                 BLOND                  WHITE   \n",
       "4             NaN                 Black                    NaN   \n",
       "\n",
       "  Animal Third Color Animal Birth Spayed or Neut Guard or Trained Vaccinated  \\\n",
       "0                NaN   2007-11-01            Yes               No        Yes   \n",
       "1                NaN   2013-04-01             No               No        Yes   \n",
       "2                NaN   2014-09-01            Yes              NaN         No   \n",
       "3                NaN   2008-04-01            Yes               No        Yes   \n",
       "4                NaN   2014-01-01             No              NaN         No   \n",
       "\n",
       "         Application Date License Issued Date License Expired Date  \n",
       "0 2012-09-19 16:01:19.647          2015-09-19           2016-09-19  \n",
       "1 2013-09-20 11:41:36.647          2014-09-20           2018-09-20  \n",
       "2 2014-09-12 13:13:36.713          2014-09-12           2019-09-12  \n",
       "3 2014-09-12 15:26:51.417          2014-09-12           2017-10-20  \n",
       "4 2014-09-12 15:43:17.707          2014-09-12           2019-09-12  "
      ]
     },
     "execution_count": 7,
     "metadata": {},
     "output_type": "execute_result"
    }
   ],
   "source": [
    "df.head()"
   ]
  },
  {
   "cell_type": "code",
   "execution_count": 50,
   "metadata": {},
   "outputs": [
    {
     "data": {
      "text/plain": [
       "Owner Zip Code                     int64\n",
       "Animal Name                       object\n",
       "Animal Gender                     object\n",
       "Primary Breed                     object\n",
       "Secondary Breed                   object\n",
       "Animal Dominant Color             object\n",
       "Animal Secondary Color            object\n",
       "Animal Third Color                object\n",
       "Animal Birth              datetime64[ns]\n",
       "Spayed or Neut                    object\n",
       "Guard or Trained                  object\n",
       "Vaccinated                        object\n",
       "Application Date          datetime64[ns]\n",
       "License Issued Date       datetime64[ns]\n",
       "License Expired Date      datetime64[ns]\n",
       "dtype: object"
      ]
     },
     "execution_count": 50,
     "metadata": {},
     "output_type": "execute_result"
    }
   ],
   "source": [
    "df.dtypes"
   ]
  },
  {
   "cell_type": "markdown",
   "metadata": {},
   "source": [
    "## How many rows do you have in the data? What are the column types?\n",
    "\n",
    "If there are more than 30,000 rows in your dataset, go back and only read in the first 30,000."
   ]
  },
  {
   "cell_type": "code",
   "execution_count": 3,
   "metadata": {},
   "outputs": [
    {
     "data": {
      "text/plain": [
       "(81937, 15)"
      ]
     },
     "execution_count": 3,
     "metadata": {},
     "output_type": "execute_result"
    }
   ],
   "source": [
    "df.shape"
   ]
  },
  {
   "cell_type": "markdown",
   "metadata": {},
   "source": [
    "## Describe the dataset in words. What is each row? List two column titles along with what each of those columns means.\n",
    "\n",
    "For example: “Each row is an animal in the zoo. `is_reptile` is whether the animal is a reptile or not”"
   ]
  },
  {
   "cell_type": "markdown",
   "metadata": {},
   "source": [
    "Each row is a dog license. `Guard or Trained` is whether the dog is a guard dog or a trained dog. `Spayed or Neut`is whether the dog is spayed."
   ]
  },
  {
   "cell_type": "markdown",
   "metadata": {},
   "source": [
    "# Your thoughts\n",
    "\n",
    "Think of three questions you could ask this dataset. **Don't ask them**, just write them down in the cell below. Feel free to use either Markdown or Python comments."
   ]
  },
  {
   "cell_type": "markdown",
   "metadata": {},
   "source": [
    "1. How many percent of dogs are spayed and vaccinated\n",
    "2. How many dogs have Animal Third Color\n",
    "3. Max period of time between liscense application data and issued date?"
   ]
  },
  {
   "cell_type": "markdown",
   "metadata": {},
   "source": [
    "# Looking at some dogs"
   ]
  },
  {
   "cell_type": "markdown",
   "metadata": {},
   "source": [
    "## What are the most popular (primary) breeds of dogs? Graph the top 10."
   ]
  },
  {
   "cell_type": "code",
   "execution_count": 32,
   "metadata": {},
   "outputs": [
    {
     "data": {
      "text/plain": [
       "<Axes: ylabel='Primary Breed'>"
      ]
     },
     "execution_count": 32,
     "metadata": {},
     "output_type": "execute_result"
    },
    {
     "data": {
      "image/png": "[encoded data removed]",
      "text/plain": [
       "<Figure size 640x480 with 1 Axes>"
      ]
     },
     "metadata": {},
     "output_type": "display_data"
    }
   ],
   "source": [
    "df['Primary Breed'].value_counts(ascending=False).head(10).plot(kind='barh')"
   ]
  },
  {
   "cell_type": "markdown",
   "metadata": {},
   "source": [
    "## \"Unknown\" is a terrible breed! Graph the top 10 breeds that are NOT Unknown"
   ]
  },
  {
   "cell_type": "code",
   "execution_count": 33,
   "metadata": {},
   "outputs": [
    {
     "data": {
      "text/plain": [
       "<Axes: xlabel='Primary Breed'>"
      ]
     },
     "execution_count": 33,
     "metadata": {},
     "output_type": "execute_result"
    },
    {
     "data": {
      "image/png": "[encoded data removed]",
      "text/plain": [
       "<Figure size 640x480 with 1 Axes>"
      ]
     },
     "metadata": {},
     "output_type": "display_data"
    }
   ],
   "source": [
    "df[df['Primary Breed'] != 'Unknown']['Primary Breed'].value_counts(ascending=False).head(10).plot(kind='bar')"
   ]
  },
  {
   "cell_type": "markdown",
   "metadata": {},
   "source": [
    "## What are the most popular dog names?"
   ]
  },
  {
   "cell_type": "code",
   "execution_count": 39,
   "metadata": {},
   "outputs": [
    {
     "data": {
      "text/plain": [
       "Animal Name\n",
       "UNKNOWN    742\n",
       "Bella      527\n",
       "Max        515\n",
       "Charlie    403\n",
       "Lola       387\n",
       "Name: count, dtype: int64"
      ]
     },
     "execution_count": 39,
     "metadata": {},
     "output_type": "execute_result"
    }
   ],
   "source": [
    "df['Animal Name'].value_counts(ascending=False).head()"
   ]
  },
  {
   "cell_type": "markdown",
   "metadata": {},
   "source": [
    "## Do any dogs have your name? How many dogs are named \"Max,\" and how many are named \"Maxwell\"?"
   ]
  },
  {
   "cell_type": "code",
   "execution_count": 42,
   "metadata": {},
   "outputs": [
    {
     "data": {
      "text/plain": [
       "Animal Name\n",
       "False    81727\n",
       "Name: count, dtype: int64"
      ]
     },
     "execution_count": 42,
     "metadata": {},
     "output_type": "execute_result"
    }
   ],
   "source": [
    "df['Animal Name'].str.contains(\"Sabina\").value_counts()"
   ]
  },
  {
   "cell_type": "code",
   "execution_count": 43,
   "metadata": {},
   "outputs": [
    {
     "data": {
      "text/plain": [
       "Animal Name\n",
       "False    80800\n",
       "True       927\n",
       "Name: count, dtype: int64"
      ]
     },
     "execution_count": 43,
     "metadata": {},
     "output_type": "execute_result"
    }
   ],
   "source": [
    "df['Animal Name'].str.contains(\"Max\").value_counts()"
   ]
  },
  {
   "cell_type": "code",
   "execution_count": 44,
   "metadata": {},
   "outputs": [
    {
     "data": {
      "text/plain": [
       "Animal Name\n",
       "False    81676\n",
       "True        51\n",
       "Name: count, dtype: int64"
      ]
     },
     "execution_count": 44,
     "metadata": {},
     "output_type": "execute_result"
    }
   ],
   "source": [
    "df['Animal Name'].str.contains(\"Maxwell\").value_counts()"
   ]
  },
  {
   "cell_type": "markdown",
   "metadata": {},
   "source": [
    "## What percentage of dogs are guard dogs?\n",
    "\n",
    "Check out the documentation for [value counts](https://pandas.pydata.org/pandas-docs/stable/generated/pandas.Series.value_counts.html)."
   ]
  },
  {
   "cell_type": "code",
   "execution_count": 45,
   "metadata": {},
   "outputs": [
    {
     "data": {
      "text/plain": [
       "Guard or Trained\n",
       "No     0.998971\n",
       "Yes    0.001029\n",
       "Name: proportion, dtype: float64"
      ]
     },
     "execution_count": 45,
     "metadata": {},
     "output_type": "execute_result"
    }
   ],
   "source": [
    "df['Guard or Trained'].value_counts(normalize=True)"
   ]
  },
  {
   "cell_type": "markdown",
   "metadata": {},
   "source": [
    "## What are the actual numbers?"
   ]
  },
  {
   "cell_type": "code",
   "execution_count": 46,
   "metadata": {},
   "outputs": [
    {
     "data": {
      "text/plain": [
       "Guard or Trained\n",
       "No     49525\n",
       "Yes       51\n",
       "Name: count, dtype: int64"
      ]
     },
     "execution_count": 46,
     "metadata": {},
     "output_type": "execute_result"
    }
   ],
   "source": [
    "df['Guard or Trained'].value_counts()"
   ]
  },
  {
   "cell_type": "markdown",
   "metadata": {},
   "source": [
    "## Wait... if you add that up, is it the same as your number of rows? Where are the other dogs???? How can we find them??????\n",
    "\n",
    "Use your `.head()` to think about it, then you'll do some magic with `.value_counts()`"
   ]
  },
  {
   "cell_type": "code",
   "execution_count": 47,
   "metadata": {},
   "outputs": [
    {
     "data": {
      "text/plain": [
       "Guard or Trained\n",
       "No     49525\n",
       "NaN    32361\n",
       "Yes       51\n",
       "Name: count, dtype: int64"
      ]
     },
     "execution_count": 47,
     "metadata": {},
     "output_type": "execute_result"
    }
   ],
   "source": [
    "df['Guard or Trained'].value_counts(dropna=False)"
   ]
  },
  {
   "cell_type": "markdown",
   "metadata": {},
   "source": [
    "## Fill in all of those empty \"Guard or Trained\" columns with \"No\"\n",
    "\n",
    "Then check your result with another `.value_counts()`"
   ]
  },
  {
   "cell_type": "code",
   "execution_count": 54,
   "metadata": {},
   "outputs": [],
   "source": [
    "df['Guard or Trained'] = df['Guard or Trained'].fillna('No')"
   ]
  },
  {
   "cell_type": "code",
   "execution_count": 56,
   "metadata": {},
   "outputs": [
    {
     "data": {
      "text/plain": [
       "Guard or Trained\n",
       "No     81886\n",
       "Yes       51\n",
       "Name: count, dtype: int64"
      ]
     },
     "execution_count": 56,
     "metadata": {},
     "output_type": "execute_result"
    }
   ],
   "source": [
    "df['Guard or Trained'].value_counts(dropna=False)"
   ]
  },
  {
   "cell_type": "markdown",
   "metadata": {},
   "source": [
    "## What are the top dog breeds for guard dogs? "
   ]
  },
  {
   "cell_type": "code",
   "execution_count": 59,
   "metadata": {},
   "outputs": [
    {
     "data": {
      "text/plain": [
       "Primary Breed\n",
       "Unknown                11\n",
       "German Shepherd Dog     4\n",
       "Chihuahua               3\n",
       "Labrador Retriever      3\n",
       "Rottweiler              3\n",
       "Name: count, dtype: int64"
      ]
     },
     "execution_count": 59,
     "metadata": {},
     "output_type": "execute_result"
    }
   ],
   "source": [
    "df[df['Guard or Trained'] == 'Yes']['Primary Breed'].value_counts().head()"
   ]
  },
  {
   "cell_type": "markdown",
   "metadata": {},
   "source": [
    "## Create a new column called \"year\" that is the dog's year of birth\n",
    "\n",
    "The `Animal Birth` column is a datetime, so you can get the year out of it with the code `df['Animal Birth'].apply(lambda birth: birth.year)`."
   ]
  },
  {
   "cell_type": "code",
   "execution_count": 61,
   "metadata": {},
   "outputs": [],
   "source": [
    "df['Year'] = df['Animal Birth'].apply(lambda birth: birth.year)"
   ]
  },
  {
   "cell_type": "markdown",
   "metadata": {},
   "source": [
    "## Calculate a new column called “age” that shows approximately how old the dog is. How old are dogs on average?"
   ]
  },
  {
   "cell_type": "code",
   "execution_count": 63,
   "metadata": {},
   "outputs": [],
   "source": [
    "df['Age'] = 2023 - df['Year']"
   ]
  },
  {
   "cell_type": "code",
   "execution_count": 64,
   "metadata": {},
   "outputs": [
    {
     "data": {
      "text/plain": [
       "13.341848005174707"
      ]
     },
     "execution_count": 64,
     "metadata": {},
     "output_type": "execute_result"
    }
   ],
   "source": [
    "df.Age.mean()"
   ]
  },
  {
   "cell_type": "markdown",
   "metadata": {},
   "source": [
    "# Joining data together"
   ]
  },
  {
   "cell_type": "markdown",
   "metadata": {},
   "source": [
    "## Which neighborhood does each dog live in?\n",
    "\n",
    "You also have a (terrible) list of NYC neighborhoods in `zipcodes-neighborhoods.csv`. Join these two datasets together, so we know what neighborhood each dog lives in. **Be sure to not read it in as `df`, or else you'll overwrite your dogs dataframe.**\n",
    "\n",
    "Here's an example of how you can merge two dataframes:\n",
    "\n",
    "```python\n",
    "merged = prisons_df.merge(states_df, left_on='state', right_on='name')\n",
    "```\n",
    "\n",
    "In the example above, `prisons_df` has a column called `state` that matches with the `name` column of `states_df`. The columns of `states_df` are then added to `prisons_df` and returned as a new dataframe called `merged`.\n",
    "\n",
    "> **Rows without a match get discarded because it is an [inner join](https://pandas.pydata.org/docs/reference/api/pandas.DataFrame.merge.html).** I think left joins are probably the most common (keep rows from the \"left\" df even if they don't have a match in the right. For example, by default a prison with the state of `PUERTO RICO` would be dropped if PR wasn't in `states_df`, but if you changed it to `how='left'` it would be preserved, but the additional columns would just be `NaN`."
   ]
  },
  {
   "cell_type": "code",
   "execution_count": 66,
   "metadata": {},
   "outputs": [],
   "source": [
    "nbh = pd.read_csv('zipcodes-neighborhoods.csv')"
   ]
  },
  {
   "cell_type": "code",
   "execution_count": 67,
   "metadata": {},
   "outputs": [
    {
     "data": {
      "text/html": [
       "<div>\n",
       "<style scoped>\n",
       "    .dataframe tbody tr th:only-of-type {\n",
       "        vertical-align: middle;\n",
       "    }\n",
       "\n",
       "    .dataframe tbody tr th {\n",
       "        vertical-align: top;\n",
       "    }\n",
       "\n",
       "    .dataframe thead th {\n",
       "        text-align: right;\n",
       "    }\n",
       "</style>\n",
       "<table border=\"1\" class=\"dataframe\">\n",
       "  <thead>\n",
       "    <tr style=\"text-align: right;\">\n",
       "      <th></th>\n",
       "      <th>neighborhood</th>\n",
       "      <th>zip</th>\n",
       "      <th>borough</th>\n",
       "    </tr>\n",
       "  </thead>\n",
       "  <tbody>\n",
       "    <tr>\n",
       "      <th>0</th>\n",
       "      <td>Central Bronx</td>\n",
       "      <td>10453</td>\n",
       "      <td>Bronx</td>\n",
       "    </tr>\n",
       "    <tr>\n",
       "      <th>1</th>\n",
       "      <td>Central Bronx</td>\n",
       "      <td>10457</td>\n",
       "      <td>Bronx</td>\n",
       "    </tr>\n",
       "    <tr>\n",
       "      <th>2</th>\n",
       "      <td>Central Bronx</td>\n",
       "      <td>10460</td>\n",
       "      <td>Bronx</td>\n",
       "    </tr>\n",
       "    <tr>\n",
       "      <th>3</th>\n",
       "      <td>Bronx Park and Fordham</td>\n",
       "      <td>10458</td>\n",
       "      <td>Bronx</td>\n",
       "    </tr>\n",
       "    <tr>\n",
       "      <th>4</th>\n",
       "      <td>Bronx Park and Fordham</td>\n",
       "      <td>10467</td>\n",
       "      <td>Bronx</td>\n",
       "    </tr>\n",
       "    <tr>\n",
       "      <th>...</th>\n",
       "      <td>...</td>\n",
       "      <td>...</td>\n",
       "      <td>...</td>\n",
       "    </tr>\n",
       "    <tr>\n",
       "      <th>173</th>\n",
       "      <td>South Shore</td>\n",
       "      <td>10312</td>\n",
       "      <td>Staten Island</td>\n",
       "    </tr>\n",
       "    <tr>\n",
       "      <th>174</th>\n",
       "      <td>Stapleton and St. George</td>\n",
       "      <td>10301</td>\n",
       "      <td>Staten Island</td>\n",
       "    </tr>\n",
       "    <tr>\n",
       "      <th>175</th>\n",
       "      <td>Stapleton and St. George</td>\n",
       "      <td>10304</td>\n",
       "      <td>Staten Island</td>\n",
       "    </tr>\n",
       "    <tr>\n",
       "      <th>176</th>\n",
       "      <td>Stapleton and St. George</td>\n",
       "      <td>10305</td>\n",
       "      <td>Staten Island</td>\n",
       "    </tr>\n",
       "    <tr>\n",
       "      <th>177</th>\n",
       "      <td>Mid-Island</td>\n",
       "      <td>10314</td>\n",
       "      <td>Staten Island</td>\n",
       "    </tr>\n",
       "  </tbody>\n",
       "</table>\n",
       "<p>178 rows × 3 columns</p>\n",
       "</div>"
      ],
      "text/plain": [
       "                 neighborhood    zip        borough\n",
       "0               Central Bronx  10453          Bronx\n",
       "1               Central Bronx  10457          Bronx\n",
       "2               Central Bronx  10460          Bronx\n",
       "3      Bronx Park and Fordham  10458          Bronx\n",
       "4      Bronx Park and Fordham  10467          Bronx\n",
       "..                        ...    ...            ...\n",
       "173               South Shore  10312  Staten Island\n",
       "174  Stapleton and St. George  10301  Staten Island\n",
       "175  Stapleton and St. George  10304  Staten Island\n",
       "176  Stapleton and St. George  10305  Staten Island\n",
       "177                Mid-Island  10314  Staten Island\n",
       "\n",
       "[178 rows x 3 columns]"
      ]
     },
     "execution_count": 67,
     "metadata": {},
     "output_type": "execute_result"
    }
   ],
   "source": [
    "nbh"
   ]
  },
  {
   "cell_type": "markdown",
   "metadata": {},
   "source": [
    "## What is the most popular dog name in all parts of the Bronx? How about Brooklyn? The Upper East Side?"
   ]
  },
  {
   "cell_type": "code",
   "execution_count": 70,
   "metadata": {},
   "outputs": [
    {
     "data": {
      "text/plain": [
       "Owner Zip Code\n",
       "False    81937\n",
       "Name: count, dtype: int64"
      ]
     },
     "execution_count": 70,
     "metadata": {},
     "output_type": "execute_result"
    }
   ],
   "source": [
    "df['Owner Zip Code'].isna().value_counts()"
   ]
  },
  {
   "cell_type": "code",
   "execution_count": 72,
   "metadata": {},
   "outputs": [
    {
     "data": {
      "text/html": [
       "<div>\n",
       "<style scoped>\n",
       "    .dataframe tbody tr th:only-of-type {\n",
       "        vertical-align: middle;\n",
       "    }\n",
       "\n",
       "    .dataframe tbody tr th {\n",
       "        vertical-align: top;\n",
       "    }\n",
       "\n",
       "    .dataframe thead th {\n",
       "        text-align: right;\n",
       "    }\n",
       "</style>\n",
       "<table border=\"1\" class=\"dataframe\">\n",
       "  <thead>\n",
       "    <tr style=\"text-align: right;\">\n",
       "      <th></th>\n",
       "      <th>neighborhood</th>\n",
       "      <th>zip</th>\n",
       "      <th>borough</th>\n",
       "      <th>Owner Zip Code</th>\n",
       "      <th>Animal Name</th>\n",
       "      <th>Animal Gender</th>\n",
       "      <th>Primary Breed</th>\n",
       "      <th>Secondary Breed</th>\n",
       "      <th>Animal Dominant Color</th>\n",
       "      <th>Animal Secondary Color</th>\n",
       "      <th>Animal Third Color</th>\n",
       "      <th>Animal Birth</th>\n",
       "      <th>Spayed or Neut</th>\n",
       "      <th>Guard or Trained</th>\n",
       "      <th>Vaccinated</th>\n",
       "      <th>Application Date</th>\n",
       "      <th>License Issued Date</th>\n",
       "      <th>License Expired Date</th>\n",
       "      <th>Year</th>\n",
       "      <th>Age</th>\n",
       "    </tr>\n",
       "  </thead>\n",
       "  <tbody>\n",
       "    <tr>\n",
       "      <th>0</th>\n",
       "      <td>Central Bronx</td>\n",
       "      <td>10453</td>\n",
       "      <td>Bronx</td>\n",
       "      <td>10453</td>\n",
       "      <td>T-Bone</td>\n",
       "      <td>M</td>\n",
       "      <td>Bulldog</td>\n",
       "      <td>NaN</td>\n",
       "      <td>White</td>\n",
       "      <td>Tan</td>\n",
       "      <td>Apricot</td>\n",
       "      <td>2010-04-01</td>\n",
       "      <td>Yes</td>\n",
       "      <td>No</td>\n",
       "      <td>Yes</td>\n",
       "      <td>2014-11-16 16:48:08.080</td>\n",
       "      <td>2014-11-16</td>\n",
       "      <td>2016-11-16</td>\n",
       "      <td>2010</td>\n",
       "      <td>13</td>\n",
       "    </tr>\n",
       "    <tr>\n",
       "      <th>1</th>\n",
       "      <td>Central Bronx</td>\n",
       "      <td>10453</td>\n",
       "      <td>Bronx</td>\n",
       "      <td>10453</td>\n",
       "      <td>Cici</td>\n",
       "      <td>F</td>\n",
       "      <td>American Pit Bull Mix / Pit Bull Mix</td>\n",
       "      <td>NaN</td>\n",
       "      <td>BROWN</td>\n",
       "      <td>RUST</td>\n",
       "      <td>BLACK</td>\n",
       "      <td>2008-11-01</td>\n",
       "      <td>Yes</td>\n",
       "      <td>No</td>\n",
       "      <td>No</td>\n",
       "      <td>2015-02-06 10:35:12.917</td>\n",
       "      <td>2015-02-06</td>\n",
       "      <td>2017-04-28</td>\n",
       "      <td>2008</td>\n",
       "      <td>15</td>\n",
       "    </tr>\n",
       "    <tr>\n",
       "      <th>2</th>\n",
       "      <td>Central Bronx</td>\n",
       "      <td>10453</td>\n",
       "      <td>Bronx</td>\n",
       "      <td>10453</td>\n",
       "      <td>Blue</td>\n",
       "      <td>M</td>\n",
       "      <td>Basset Hound</td>\n",
       "      <td>NaN</td>\n",
       "      <td>Brown</td>\n",
       "      <td>Tan</td>\n",
       "      <td>Cream</td>\n",
       "      <td>2005-02-01</td>\n",
       "      <td>Yes</td>\n",
       "      <td>No</td>\n",
       "      <td>No</td>\n",
       "      <td>2015-02-10 16:43:24.847</td>\n",
       "      <td>2015-02-10</td>\n",
       "      <td>2017-02-10</td>\n",
       "      <td>2005</td>\n",
       "      <td>18</td>\n",
       "    </tr>\n",
       "    <tr>\n",
       "      <th>3</th>\n",
       "      <td>Central Bronx</td>\n",
       "      <td>10453</td>\n",
       "      <td>Bronx</td>\n",
       "      <td>10453</td>\n",
       "      <td>Boi</td>\n",
       "      <td>M</td>\n",
       "      <td>Yorkshire Terrier</td>\n",
       "      <td>NaN</td>\n",
       "      <td>Black</td>\n",
       "      <td>Gray</td>\n",
       "      <td>Tan</td>\n",
       "      <td>2011-02-01</td>\n",
       "      <td>Yes</td>\n",
       "      <td>No</td>\n",
       "      <td>Yes</td>\n",
       "      <td>2015-02-10 16:43:24.847</td>\n",
       "      <td>2015-02-10</td>\n",
       "      <td>2017-02-10</td>\n",
       "      <td>2011</td>\n",
       "      <td>12</td>\n",
       "    </tr>\n",
       "    <tr>\n",
       "      <th>4</th>\n",
       "      <td>Central Bronx</td>\n",
       "      <td>10453</td>\n",
       "      <td>Bronx</td>\n",
       "      <td>10453</td>\n",
       "      <td>MARSHMELLO</td>\n",
       "      <td>F</td>\n",
       "      <td>Samoyed</td>\n",
       "      <td>NaN</td>\n",
       "      <td>WHITE</td>\n",
       "      <td>NaN</td>\n",
       "      <td>NaN</td>\n",
       "      <td>2004-01-01</td>\n",
       "      <td>Yes</td>\n",
       "      <td>No</td>\n",
       "      <td>Yes</td>\n",
       "      <td>2015-03-27 14:47:53.483</td>\n",
       "      <td>2015-03-27</td>\n",
       "      <td>2017-03-30</td>\n",
       "      <td>2004</td>\n",
       "      <td>19</td>\n",
       "    </tr>\n",
       "    <tr>\n",
       "      <th>5</th>\n",
       "      <td>Central Bronx</td>\n",
       "      <td>10453</td>\n",
       "      <td>Bronx</td>\n",
       "      <td>10453</td>\n",
       "      <td>Amber</td>\n",
       "      <td>F</td>\n",
       "      <td>Poodle, Miniature</td>\n",
       "      <td>NaN</td>\n",
       "      <td>WHITE</td>\n",
       "      <td>NaN</td>\n",
       "      <td>NaN</td>\n",
       "      <td>2007-02-01</td>\n",
       "      <td>Yes</td>\n",
       "      <td>No</td>\n",
       "      <td>Yes</td>\n",
       "      <td>2015-04-17 15:35:48.417</td>\n",
       "      <td>2015-04-17</td>\n",
       "      <td>2016-05-12</td>\n",
       "      <td>2007</td>\n",
       "      <td>16</td>\n",
       "    </tr>\n",
       "    <tr>\n",
       "      <th>6</th>\n",
       "      <td>Central Bronx</td>\n",
       "      <td>10453</td>\n",
       "      <td>Bronx</td>\n",
       "      <td>10453</td>\n",
       "      <td>Blackie</td>\n",
       "      <td>F</td>\n",
       "      <td>Poodle, Standard</td>\n",
       "      <td>NaN</td>\n",
       "      <td>Black</td>\n",
       "      <td>NaN</td>\n",
       "      <td>NaN</td>\n",
       "      <td>2003-01-01</td>\n",
       "      <td>No</td>\n",
       "      <td>No</td>\n",
       "      <td>Yes</td>\n",
       "      <td>2015-04-29 09:04:13.047</td>\n",
       "      <td>2015-04-29</td>\n",
       "      <td>2016-05-30</td>\n",
       "      <td>2003</td>\n",
       "      <td>20</td>\n",
       "    </tr>\n",
       "    <tr>\n",
       "      <th>7</th>\n",
       "      <td>Central Bronx</td>\n",
       "      <td>10453</td>\n",
       "      <td>Bronx</td>\n",
       "      <td>10453</td>\n",
       "      <td>Jewels</td>\n",
       "      <td>F</td>\n",
       "      <td>Yorkshire Terrier</td>\n",
       "      <td>NaN</td>\n",
       "      <td>BROWN</td>\n",
       "      <td>TAN</td>\n",
       "      <td>NaN</td>\n",
       "      <td>2003-07-01</td>\n",
       "      <td>No</td>\n",
       "      <td>No</td>\n",
       "      <td>Yes</td>\n",
       "      <td>2015-04-29 12:50:14.797</td>\n",
       "      <td>2015-04-29</td>\n",
       "      <td>2016-05-14</td>\n",
       "      <td>2003</td>\n",
       "      <td>20</td>\n",
       "    </tr>\n",
       "    <tr>\n",
       "      <th>8</th>\n",
       "      <td>Central Bronx</td>\n",
       "      <td>10453</td>\n",
       "      <td>Bronx</td>\n",
       "      <td>10453</td>\n",
       "      <td>Casper</td>\n",
       "      <td>M</td>\n",
       "      <td>Chihuahua</td>\n",
       "      <td>NaN</td>\n",
       "      <td>BLOND</td>\n",
       "      <td>NaN</td>\n",
       "      <td>NaN</td>\n",
       "      <td>2004-01-01</td>\n",
       "      <td>No</td>\n",
       "      <td>No</td>\n",
       "      <td>Yes</td>\n",
       "      <td>2015-05-01 09:48:13.173</td>\n",
       "      <td>2015-05-01</td>\n",
       "      <td>2016-04-29</td>\n",
       "      <td>2004</td>\n",
       "      <td>19</td>\n",
       "    </tr>\n",
       "    <tr>\n",
       "      <th>9</th>\n",
       "      <td>Central Bronx</td>\n",
       "      <td>10453</td>\n",
       "      <td>Bronx</td>\n",
       "      <td>10453</td>\n",
       "      <td>Sol</td>\n",
       "      <td>F</td>\n",
       "      <td>German Shepherd Dog</td>\n",
       "      <td>NaN</td>\n",
       "      <td>Brown</td>\n",
       "      <td>Black</td>\n",
       "      <td>NaN</td>\n",
       "      <td>2015-02-01</td>\n",
       "      <td>No</td>\n",
       "      <td>No</td>\n",
       "      <td>No</td>\n",
       "      <td>2015-05-01 23:05:05.127</td>\n",
       "      <td>2015-05-01</td>\n",
       "      <td>2016-05-01</td>\n",
       "      <td>2015</td>\n",
       "      <td>8</td>\n",
       "    </tr>\n",
       "  </tbody>\n",
       "</table>\n",
       "</div>"
      ],
      "text/plain": [
       "    neighborhood    zip borough  Owner Zip Code Animal Name Animal Gender  \\\n",
       "0  Central Bronx  10453   Bronx           10453      T-Bone             M   \n",
       "1  Central Bronx  10453   Bronx           10453        Cici             F   \n",
       "2  Central Bronx  10453   Bronx           10453        Blue             M   \n",
       "3  Central Bronx  10453   Bronx           10453         Boi             M   \n",
       "4  Central Bronx  10453   Bronx           10453  MARSHMELLO             F   \n",
       "5  Central Bronx  10453   Bronx           10453       Amber             F   \n",
       "6  Central Bronx  10453   Bronx           10453     Blackie             F   \n",
       "7  Central Bronx  10453   Bronx           10453      Jewels             F   \n",
       "8  Central Bronx  10453   Bronx           10453     Casper              M   \n",
       "9  Central Bronx  10453   Bronx           10453         Sol             F   \n",
       "\n",
       "                          Primary Breed Secondary Breed Animal Dominant Color  \\\n",
       "0                               Bulldog             NaN                 White   \n",
       "1  American Pit Bull Mix / Pit Bull Mix             NaN                 BROWN   \n",
       "2                          Basset Hound             NaN                 Brown   \n",
       "3                     Yorkshire Terrier             NaN                 Black   \n",
       "4                               Samoyed             NaN                 WHITE   \n",
       "5                     Poodle, Miniature             NaN                 WHITE   \n",
       "6                      Poodle, Standard             NaN                 Black   \n",
       "7                     Yorkshire Terrier             NaN                 BROWN   \n",
       "8                             Chihuahua             NaN                 BLOND   \n",
       "9                   German Shepherd Dog             NaN                 Brown   \n",
       "\n",
       "  Animal Secondary Color Animal Third Color Animal Birth Spayed or Neut  \\\n",
       "0                    Tan            Apricot   2010-04-01            Yes   \n",
       "1                   RUST              BLACK   2008-11-01            Yes   \n",
       "2                    Tan              Cream   2005-02-01            Yes   \n",
       "3                   Gray                Tan   2011-02-01            Yes   \n",
       "4                    NaN                NaN   2004-01-01            Yes   \n",
       "5                    NaN                NaN   2007-02-01            Yes   \n",
       "6                    NaN                NaN   2003-01-01             No   \n",
       "7                    TAN                NaN   2003-07-01             No   \n",
       "8                    NaN                NaN   2004-01-01             No   \n",
       "9                  Black                NaN   2015-02-01             No   \n",
       "\n",
       "  Guard or Trained Vaccinated        Application Date License Issued Date  \\\n",
       "0               No        Yes 2014-11-16 16:48:08.080          2014-11-16   \n",
       "1               No         No 2015-02-06 10:35:12.917          2015-02-06   \n",
       "2               No         No 2015-02-10 16:43:24.847          2015-02-10   \n",
       "3               No        Yes 2015-02-10 16:43:24.847          2015-02-10   \n",
       "4               No        Yes 2015-03-27 14:47:53.483          2015-03-27   \n",
       "5               No        Yes 2015-04-17 15:35:48.417          2015-04-17   \n",
       "6               No        Yes 2015-04-29 09:04:13.047          2015-04-29   \n",
       "7               No        Yes 2015-04-29 12:50:14.797          2015-04-29   \n",
       "8               No        Yes 2015-05-01 09:48:13.173          2015-05-01   \n",
       "9               No         No 2015-05-01 23:05:05.127          2015-05-01   \n",
       "\n",
       "  License Expired Date  Year  Age  \n",
       "0           2016-11-16  2010   13  \n",
       "1           2017-04-28  2008   15  \n",
       "2           2017-02-10  2005   18  \n",
       "3           2017-02-10  2011   12  \n",
       "4           2017-03-30  2004   19  \n",
       "5           2016-05-12  2007   16  \n",
       "6           2016-05-30  2003   20  \n",
       "7           2016-05-14  2003   20  \n",
       "8           2016-04-29  2004   19  \n",
       "9           2016-05-01  2015    8  "
      ]
     },
     "execution_count": 72,
     "metadata": {},
     "output_type": "execute_result"
    }
   ],
   "source": [
    "merged = nbh.merge(df, left_on='zip', right_on='Owner Zip Code')\n",
    "merged.head(10)"
   ]
  },
  {
   "cell_type": "code",
   "execution_count": 75,
   "metadata": {},
   "outputs": [
    {
     "data": {
      "text/plain": [
       "Animal Name\n",
       "Rocky       60\n",
       "Max         56\n",
       "Bella       54\n",
       "Lucky       51\n",
       "Princess    43\n",
       "Name: count, dtype: int64"
      ]
     },
     "execution_count": 75,
     "metadata": {},
     "output_type": "execute_result"
    }
   ],
   "source": [
    "merged[merged.borough == 'Bronx']['Animal Name'].value_counts().head()"
   ]
  },
  {
   "cell_type": "code",
   "execution_count": 76,
   "metadata": {},
   "outputs": [
    {
     "data": {
      "text/plain": [
       "Animal Name\n",
       "unknown    234\n",
       "Unknown    161\n",
       "UNKNOWN    155\n",
       "Max        113\n",
       "Bella      112\n",
       "Name: count, dtype: int64"
      ]
     },
     "execution_count": 76,
     "metadata": {},
     "output_type": "execute_result"
    }
   ],
   "source": [
    "merged[merged.borough == 'Brooklyn']['Animal Name'].value_counts().head()"
   ]
  },
  {
   "cell_type": "code",
   "execution_count": 77,
   "metadata": {},
   "outputs": [
    {
     "data": {
      "text/plain": [
       "Animal Name\n",
       "Lucy       40\n",
       "Bella      31\n",
       "Charlie    29\n",
       "Coco       29\n",
       "NO NAME    26\n",
       "Name: count, dtype: int64"
      ]
     },
     "execution_count": 77,
     "metadata": {},
     "output_type": "execute_result"
    }
   ],
   "source": [
    "merged[merged.neighborhood == 'Upper East Side']['Animal Name'].value_counts().head()"
   ]
  },
  {
   "cell_type": "markdown",
   "metadata": {},
   "source": [
    "## What is the most common dog breed in each of the neighborhoods of NYC?"
   ]
  },
  {
   "cell_type": "code",
   "execution_count": 80,
   "metadata": {},
   "outputs": [
    {
     "data": {
      "text/plain": [
       "neighborhood  Primary Breed     \n",
       "Borough Park  Unknown               287\n",
       "              Yorkshire Terrier     115\n",
       "              Shih Tzu              100\n",
       "              Chihuahua              86\n",
       "              Maltese                83\n",
       "                                   ... \n",
       "West Queens   Smooth Fox Terrier      1\n",
       "              Bulldog                 1\n",
       "              Brittany Spaniel        1\n",
       "              Border Terrier          1\n",
       "              Saluki                  1\n",
       "Name: count, Length: 5639, dtype: int64"
      ]
     },
     "execution_count": 80,
     "metadata": {},
     "output_type": "execute_result"
    }
   ],
   "source": [
    "merged.groupby('neighborhood')['Primary Breed'].value_counts()"
   ]
  },
  {
   "cell_type": "code",
   "execution_count": null,
   "metadata": {},
   "outputs": [],
   "source": []
  },
  {
   "cell_type": "markdown",
   "metadata": {},
   "source": [
    "## What breed of dogs are the least likely to be spayed? Male or female?"
   ]
  },
  {
   "cell_type": "code",
   "execution_count": 88,
   "metadata": {},
   "outputs": [
    {
     "data": {
      "text/plain": [
       "Primary Breed\n",
       "Kerry Blue Terrier            1\n",
       "Thai Ridgeback                1\n",
       "Great Pyrenees                1\n",
       "Mudi                          1\n",
       "Saluki                        1\n",
       "Pharaoh Hound                 1\n",
       "Gordon Setter                 1\n",
       "Karelian Bear Dog             1\n",
       "Portuguese Podengo Pequeno    1\n",
       "Lakeland Terrier              1\n",
       "American Hairless Terrier     1\n",
       "Cesky Terrier                 1\n",
       "Lowchen                       1\n",
       "Entlebucher Mountain Dog      1\n",
       "Glen of Imaal Terrier         1\n",
       "Jindo                         1\n",
       "Bouvier Des Flandres          1\n",
       "German Longhaired Pointer     1\n",
       "Australian Kelpie             1\n",
       "Ibizan Hound                  1\n",
       "Anatolian Shepherd Dog        1\n",
       "Field Spaniel                 1\n",
       "Redbone Coonhound             1\n",
       "Irish Red and White Setter    1\n",
       "Russian Toy                   1\n",
       "American Water Spaniel        1\n",
       "Berger Picard                 1\n",
       "English Foxhound              1\n",
       "Manchester Terrier            1\n",
       "Siberian Husky Crossbreed     1\n",
       "Welsh Springer Spaniel        1\n",
       "French Spaniel                1\n",
       "Schipperkee                   1\n",
       "English Toy Spaniel           2\n",
       "Biewer Terrier                2\n",
       "Name: count, dtype: int64"
      ]
     },
     "execution_count": 88,
     "metadata": {},
     "output_type": "execute_result"
    }
   ],
   "source": [
    "df[df['Spayed or Neut'] == 'No']['Primary Breed'].value_counts(ascending=True).head(35)"
   ]
  },
  {
   "cell_type": "code",
   "execution_count": 89,
   "metadata": {},
   "outputs": [
    {
     "data": {
      "text/plain": [
       "Animal Gender\n",
       "M    9914\n",
       "F    5808\n",
       "Name: count, dtype: int64"
      ]
     },
     "execution_count": 89,
     "metadata": {},
     "output_type": "execute_result"
    }
   ],
   "source": [
    "df[df['Spayed or Neut'] == 'No']['Animal Gender'].value_counts()"
   ]
  },
  {
   "cell_type": "markdown",
   "metadata": {},
   "source": [
    "## Make a new column called monochrome that is True for any animal that only has black, white or grey as one of its colors. How many animals are monochrome?"
   ]
  },
  {
   "cell_type": "code",
   "execution_count": 92,
   "metadata": {},
   "outputs": [],
   "source": [
    "import re"
   ]
  },
  {
   "cell_type": "code",
   "execution_count": 104,
   "metadata": {},
   "outputs": [
    {
     "ename": "AttributeError",
     "evalue": "'DataFrame' object has no attribute 'str'",
     "output_type": "error",
     "traceback": [
      "\u001b[0;31m---------------------------------------------------------------------------\u001b[0m",
      "\u001b[0;31mAttributeError\u001b[0m                            Traceback (most recent call last)",
      "\u001b[0;32m/var/folders/08/sbr5s7tn0lg5twvhbdrmll2h0000gn/T/ipykernel_20204/4275302928.py\u001b[0m in \u001b[0;36m?\u001b[0;34m()\u001b[0m\n\u001b[1;32m      1\u001b[0m \u001b[0mmono_merged\u001b[0m \u001b[0;34m=\u001b[0m \u001b[0mmerged\u001b[0m\u001b[0;34m[\u001b[0m\u001b[0;34m[\u001b[0m\u001b[0;34m'Animal Dominant Color'\u001b[0m\u001b[0;34m,\u001b[0m\u001b[0;34m'Animal Secondary Color'\u001b[0m\u001b[0;34m,\u001b[0m \u001b[0;34m'Animal Third Color'\u001b[0m\u001b[0;34m]\u001b[0m\u001b[0;34m]\u001b[0m\u001b[0;34m\u001b[0m\u001b[0;34m\u001b[0m\u001b[0m\n\u001b[0;32m----> 2\u001b[0;31m \u001b[0mmono_merged\u001b[0m\u001b[0;34m.\u001b[0m\u001b[0mstr\u001b[0m\u001b[0;34m.\u001b[0m\u001b[0mcontains\u001b[0m\u001b[0;34m(\u001b[0m\u001b[0;34m'black|white|grey'\u001b[0m\u001b[0;34m,\u001b[0m \u001b[0mflags\u001b[0m\u001b[0;34m=\u001b[0m\u001b[0mre\u001b[0m\u001b[0;34m.\u001b[0m\u001b[0mIGNORECASE\u001b[0m\u001b[0;34m)\u001b[0m\u001b[0;34m.\u001b[0m\u001b[0mhead\u001b[0m\u001b[0;34m(\u001b[0m\u001b[0;34m)\u001b[0m\u001b[0;34m\u001b[0m\u001b[0;34m\u001b[0m\u001b[0m\n\u001b[0m\u001b[1;32m      3\u001b[0m \u001b[0;34m\u001b[0m\u001b[0m\n",
      "\u001b[0;32m~/.pyenv/versions/3.11.6/lib/python3.11/site-packages/pandas/core/generic.py\u001b[0m in \u001b[0;36m?\u001b[0;34m(self, name)\u001b[0m\n\u001b[1;32m   6200\u001b[0m             \u001b[0;32mand\u001b[0m \u001b[0mname\u001b[0m \u001b[0;32mnot\u001b[0m \u001b[0;32min\u001b[0m \u001b[0mself\u001b[0m\u001b[0;34m.\u001b[0m\u001b[0m_accessors\u001b[0m\u001b[0;34m\u001b[0m\u001b[0;34m\u001b[0m\u001b[0m\n\u001b[1;32m   6201\u001b[0m             \u001b[0;32mand\u001b[0m \u001b[0mself\u001b[0m\u001b[0;34m.\u001b[0m\u001b[0m_info_axis\u001b[0m\u001b[0;34m.\u001b[0m\u001b[0m_can_hold_identifiers_and_holds_name\u001b[0m\u001b[0;34m(\u001b[0m\u001b[0mname\u001b[0m\u001b[0;34m)\u001b[0m\u001b[0;34m\u001b[0m\u001b[0;34m\u001b[0m\u001b[0m\n\u001b[1;32m   6202\u001b[0m         ):\n\u001b[1;32m   6203\u001b[0m             \u001b[0;32mreturn\u001b[0m \u001b[0mself\u001b[0m\u001b[0;34m[\u001b[0m\u001b[0mname\u001b[0m\u001b[0;34m]\u001b[0m\u001b[0;34m\u001b[0m\u001b[0;34m\u001b[0m\u001b[0m\n\u001b[0;32m-> 6204\u001b[0;31m         \u001b[0;32mreturn\u001b[0m \u001b[0mobject\u001b[0m\u001b[0;34m.\u001b[0m\u001b[0m__getattribute__\u001b[0m\u001b[0;34m(\u001b[0m\u001b[0mself\u001b[0m\u001b[0;34m,\u001b[0m \u001b[0mname\u001b[0m\u001b[0;34m)\u001b[0m\u001b[0;34m\u001b[0m\u001b[0;34m\u001b[0m\u001b[0m\n\u001b[0m",
      "\u001b[0;31mAttributeError\u001b[0m: 'DataFrame' object has no attribute 'str'"
     ]
    }
   ],
   "source": [
    "mono_merged = merged[['Animal Dominant Color','Animal Secondary Color', 'Animal Third Color']]\n",
    "mono_merged.str.contains('black|white|grey', flags=re.IGNORECASE).head()\n",
    "\n"
   ]
  },
  {
   "cell_type": "markdown",
   "metadata": {},
   "source": [
    "## How many dogs are in each borough? Plot it in a graph."
   ]
  },
  {
   "cell_type": "code",
   "execution_count": 111,
   "metadata": {},
   "outputs": [
    {
     "data": {
      "text/plain": [
       "<Axes: xlabel='borough'>"
      ]
     },
     "execution_count": 111,
     "metadata": {},
     "output_type": "execute_result"
    },
    {
     "data": {
      "image/png": "[encoded data removed]",
      "text/plain": [
       "<Figure size 640x480 with 1 Axes>"
      ]
     },
     "metadata": {},
     "output_type": "display_data"
    }
   ],
   "source": [
    "merged.groupby('borough').size().plot(kind='bar')"
   ]
  },
  {
   "cell_type": "markdown",
   "metadata": {},
   "source": [
    "## Which borough has the highest number of dogs per-capita?\n",
    "\n",
    "You’ll need to merge in `population_boro.csv`"
   ]
  },
  {
   "cell_type": "code",
   "execution_count": 114,
   "metadata": {},
   "outputs": [],
   "source": [
    "pop = pd.read_csv('boro_population.csv')"
   ]
  },
  {
   "cell_type": "code",
   "execution_count": 115,
   "metadata": {},
   "outputs": [
    {
     "data": {
      "text/html": [
       "<div>\n",
       "<style scoped>\n",
       "    .dataframe tbody tr th:only-of-type {\n",
       "        vertical-align: middle;\n",
       "    }\n",
       "\n",
       "    .dataframe tbody tr th {\n",
       "        vertical-align: top;\n",
       "    }\n",
       "\n",
       "    .dataframe thead th {\n",
       "        text-align: right;\n",
       "    }\n",
       "</style>\n",
       "<table border=\"1\" class=\"dataframe\">\n",
       "  <thead>\n",
       "    <tr style=\"text-align: right;\">\n",
       "      <th></th>\n",
       "      <th>borough</th>\n",
       "      <th>population</th>\n",
       "      <th>area_sqmi</th>\n",
       "    </tr>\n",
       "  </thead>\n",
       "  <tbody>\n",
       "    <tr>\n",
       "      <th>0</th>\n",
       "      <td>Manhattan</td>\n",
       "      <td>1644518</td>\n",
       "      <td>23</td>\n",
       "    </tr>\n",
       "    <tr>\n",
       "      <th>1</th>\n",
       "      <td>Bronx</td>\n",
       "      <td>1455444</td>\n",
       "      <td>42</td>\n",
       "    </tr>\n",
       "    <tr>\n",
       "      <th>2</th>\n",
       "      <td>Brooklyn</td>\n",
       "      <td>2636735</td>\n",
       "      <td>71</td>\n",
       "    </tr>\n",
       "    <tr>\n",
       "      <th>3</th>\n",
       "      <td>Queens</td>\n",
       "      <td>2339150</td>\n",
       "      <td>109</td>\n",
       "    </tr>\n",
       "    <tr>\n",
       "      <th>4</th>\n",
       "      <td>Staten Island</td>\n",
       "      <td>474558</td>\n",
       "      <td>59</td>\n",
       "    </tr>\n",
       "  </tbody>\n",
       "</table>\n",
       "</div>"
      ],
      "text/plain": [
       "         borough  population  area_sqmi\n",
       "0      Manhattan     1644518         23\n",
       "1          Bronx     1455444         42\n",
       "2       Brooklyn     2636735         71\n",
       "3         Queens     2339150        109\n",
       "4  Staten Island      474558         59"
      ]
     },
     "execution_count": 115,
     "metadata": {},
     "output_type": "execute_result"
    }
   ],
   "source": [
    "pop.head()"
   ]
  },
  {
   "cell_type": "code",
   "execution_count": 116,
   "metadata": {},
   "outputs": [],
   "source": [
    "new_merged = pop.merge(merged, left_on='borough', right_on='borough')"
   ]
  },
  {
   "cell_type": "code",
   "execution_count": 117,
   "metadata": {},
   "outputs": [
    {
     "data": {
      "text/html": [
       "<div>\n",
       "<style scoped>\n",
       "    .dataframe tbody tr th:only-of-type {\n",
       "        vertical-align: middle;\n",
       "    }\n",
       "\n",
       "    .dataframe tbody tr th {\n",
       "        vertical-align: top;\n",
       "    }\n",
       "\n",
       "    .dataframe thead th {\n",
       "        text-align: right;\n",
       "    }\n",
       "</style>\n",
       "<table border=\"1\" class=\"dataframe\">\n",
       "  <thead>\n",
       "    <tr style=\"text-align: right;\">\n",
       "      <th></th>\n",
       "      <th>borough</th>\n",
       "      <th>population</th>\n",
       "      <th>area_sqmi</th>\n",
       "      <th>neighborhood</th>\n",
       "      <th>zip</th>\n",
       "      <th>Owner Zip Code</th>\n",
       "      <th>Animal Name</th>\n",
       "      <th>Animal Gender</th>\n",
       "      <th>Primary Breed</th>\n",
       "      <th>Secondary Breed</th>\n",
       "      <th>...</th>\n",
       "      <th>Animal Third Color</th>\n",
       "      <th>Animal Birth</th>\n",
       "      <th>Spayed or Neut</th>\n",
       "      <th>Guard or Trained</th>\n",
       "      <th>Vaccinated</th>\n",
       "      <th>Application Date</th>\n",
       "      <th>License Issued Date</th>\n",
       "      <th>License Expired Date</th>\n",
       "      <th>Year</th>\n",
       "      <th>Age</th>\n",
       "    </tr>\n",
       "  </thead>\n",
       "  <tbody>\n",
       "    <tr>\n",
       "      <th>0</th>\n",
       "      <td>Manhattan</td>\n",
       "      <td>1644518</td>\n",
       "      <td>23</td>\n",
       "      <td>Central Harlem</td>\n",
       "      <td>10026</td>\n",
       "      <td>10026</td>\n",
       "      <td>OREO MARIN</td>\n",
       "      <td>F</td>\n",
       "      <td>Havanese</td>\n",
       "      <td>NaN</td>\n",
       "      <td>...</td>\n",
       "      <td>NaN</td>\n",
       "      <td>2005-09-01</td>\n",
       "      <td>Yes</td>\n",
       "      <td>No</td>\n",
       "      <td>Yes</td>\n",
       "      <td>2014-09-24 11:00:58.667</td>\n",
       "      <td>2014-09-24</td>\n",
       "      <td>2017-05-21</td>\n",
       "      <td>2005</td>\n",
       "      <td>18</td>\n",
       "    </tr>\n",
       "    <tr>\n",
       "      <th>1</th>\n",
       "      <td>Manhattan</td>\n",
       "      <td>1644518</td>\n",
       "      <td>23</td>\n",
       "      <td>Central Harlem</td>\n",
       "      <td>10026</td>\n",
       "      <td>10026</td>\n",
       "      <td>Jake Isbell</td>\n",
       "      <td>M</td>\n",
       "      <td>Puggle</td>\n",
       "      <td>NaN</td>\n",
       "      <td>...</td>\n",
       "      <td>NaN</td>\n",
       "      <td>2013-10-01</td>\n",
       "      <td>Yes</td>\n",
       "      <td>No</td>\n",
       "      <td>Yes</td>\n",
       "      <td>2014-10-01 22:16:25.653</td>\n",
       "      <td>2014-10-01</td>\n",
       "      <td>2017-10-01</td>\n",
       "      <td>2013</td>\n",
       "      <td>10</td>\n",
       "    </tr>\n",
       "    <tr>\n",
       "      <th>2</th>\n",
       "      <td>Manhattan</td>\n",
       "      <td>1644518</td>\n",
       "      <td>23</td>\n",
       "      <td>Central Harlem</td>\n",
       "      <td>10026</td>\n",
       "      <td>10026</td>\n",
       "      <td>OLIVIA</td>\n",
       "      <td>F</td>\n",
       "      <td>Havanese</td>\n",
       "      <td>NaN</td>\n",
       "      <td>...</td>\n",
       "      <td>BLACK</td>\n",
       "      <td>2008-03-01</td>\n",
       "      <td>Yes</td>\n",
       "      <td>No</td>\n",
       "      <td>Yes</td>\n",
       "      <td>2014-10-11 15:08:12.983</td>\n",
       "      <td>2014-10-11</td>\n",
       "      <td>2017-08-19</td>\n",
       "      <td>2008</td>\n",
       "      <td>15</td>\n",
       "    </tr>\n",
       "    <tr>\n",
       "      <th>3</th>\n",
       "      <td>Manhattan</td>\n",
       "      <td>1644518</td>\n",
       "      <td>23</td>\n",
       "      <td>Central Harlem</td>\n",
       "      <td>10026</td>\n",
       "      <td>10026</td>\n",
       "      <td>Henry</td>\n",
       "      <td>M</td>\n",
       "      <td>Unknown</td>\n",
       "      <td>Hound Mix</td>\n",
       "      <td>...</td>\n",
       "      <td>Brown</td>\n",
       "      <td>2007-07-01</td>\n",
       "      <td>Yes</td>\n",
       "      <td>No</td>\n",
       "      <td>Yes</td>\n",
       "      <td>2014-11-01 13:52:57.347</td>\n",
       "      <td>2014-11-01</td>\n",
       "      <td>2016-11-01</td>\n",
       "      <td>2007</td>\n",
       "      <td>16</td>\n",
       "    </tr>\n",
       "    <tr>\n",
       "      <th>4</th>\n",
       "      <td>Manhattan</td>\n",
       "      <td>1644518</td>\n",
       "      <td>23</td>\n",
       "      <td>Central Harlem</td>\n",
       "      <td>10026</td>\n",
       "      <td>10026</td>\n",
       "      <td>Milo</td>\n",
       "      <td>M</td>\n",
       "      <td>Yorkshire Terrier</td>\n",
       "      <td>NaN</td>\n",
       "      <td>...</td>\n",
       "      <td>Brown</td>\n",
       "      <td>2011-06-01</td>\n",
       "      <td>Yes</td>\n",
       "      <td>No</td>\n",
       "      <td>Yes</td>\n",
       "      <td>2014-11-04 21:11:14.157</td>\n",
       "      <td>2014-11-04</td>\n",
       "      <td>2016-11-04</td>\n",
       "      <td>2011</td>\n",
       "      <td>12</td>\n",
       "    </tr>\n",
       "  </tbody>\n",
       "</table>\n",
       "<p>5 rows × 22 columns</p>\n",
       "</div>"
      ],
      "text/plain": [
       "     borough  population  area_sqmi    neighborhood    zip  Owner Zip Code  \\\n",
       "0  Manhattan     1644518         23  Central Harlem  10026           10026   \n",
       "1  Manhattan     1644518         23  Central Harlem  10026           10026   \n",
       "2  Manhattan     1644518         23  Central Harlem  10026           10026   \n",
       "3  Manhattan     1644518         23  Central Harlem  10026           10026   \n",
       "4  Manhattan     1644518         23  Central Harlem  10026           10026   \n",
       "\n",
       "   Animal Name Animal Gender      Primary Breed Secondary Breed  ...  \\\n",
       "0   OREO MARIN             F           Havanese             NaN  ...   \n",
       "1  Jake Isbell             M             Puggle             NaN  ...   \n",
       "2       OLIVIA             F           Havanese             NaN  ...   \n",
       "3        Henry             M            Unknown       Hound Mix  ...   \n",
       "4        Milo              M  Yorkshire Terrier             NaN  ...   \n",
       "\n",
       "  Animal Third Color Animal Birth Spayed or Neut Guard or Trained Vaccinated  \\\n",
       "0                NaN   2005-09-01            Yes               No        Yes   \n",
       "1                NaN   2013-10-01            Yes               No        Yes   \n",
       "2              BLACK   2008-03-01            Yes               No        Yes   \n",
       "3              Brown   2007-07-01            Yes               No        Yes   \n",
       "4              Brown   2011-06-01            Yes               No        Yes   \n",
       "\n",
       "         Application Date License Issued Date License Expired Date  Year Age  \n",
       "0 2014-09-24 11:00:58.667          2014-09-24           2017-05-21  2005  18  \n",
       "1 2014-10-01 22:16:25.653          2014-10-01           2017-10-01  2013  10  \n",
       "2 2014-10-11 15:08:12.983          2014-10-11           2017-08-19  2008  15  \n",
       "3 2014-11-01 13:52:57.347          2014-11-01           2016-11-01  2007  16  \n",
       "4 2014-11-04 21:11:14.157          2014-11-04           2016-11-04  2011  12  \n",
       "\n",
       "[5 rows x 22 columns]"
      ]
     },
     "execution_count": 117,
     "metadata": {},
     "output_type": "execute_result"
    }
   ],
   "source": [
    "new_merged.head()"
   ]
  },
  {
   "cell_type": "code",
   "execution_count": 117,
   "metadata": {},
   "outputs": [
    {
     "data": {
      "text/html": [
       "<div>\n",
       "<style scoped>\n",
       "    .dataframe tbody tr th:only-of-type {\n",
       "        vertical-align: middle;\n",
       "    }\n",
       "\n",
       "    .dataframe tbody tr th {\n",
       "        vertical-align: top;\n",
       "    }\n",
       "\n",
       "    .dataframe thead th {\n",
       "        text-align: right;\n",
       "    }\n",
       "</style>\n",
       "<table border=\"1\" class=\"dataframe\">\n",
       "  <thead>\n",
       "    <tr style=\"text-align: right;\">\n",
       "      <th></th>\n",
       "      <th>borough</th>\n",
       "      <th>population</th>\n",
       "      <th>area_sqmi</th>\n",
       "      <th>neighborhood</th>\n",
       "      <th>zip</th>\n",
       "      <th>Owner Zip Code</th>\n",
       "      <th>Animal Name</th>\n",
       "      <th>Animal Gender</th>\n",
       "      <th>Primary Breed</th>\n",
       "      <th>Secondary Breed</th>\n",
       "      <th>...</th>\n",
       "      <th>Animal Third Color</th>\n",
       "      <th>Animal Birth</th>\n",
       "      <th>Spayed or Neut</th>\n",
       "      <th>Guard or Trained</th>\n",
       "      <th>Vaccinated</th>\n",
       "      <th>Application Date</th>\n",
       "      <th>License Issued Date</th>\n",
       "      <th>License Expired Date</th>\n",
       "      <th>Year</th>\n",
       "      <th>Age</th>\n",
       "    </tr>\n",
       "  </thead>\n",
       "  <tbody>\n",
       "    <tr>\n",
       "      <th>0</th>\n",
       "      <td>Manhattan</td>\n",
       "      <td>1644518</td>\n",
       "      <td>23</td>\n",
       "      <td>Central Harlem</td>\n",
       "      <td>10026</td>\n",
       "      <td>10026</td>\n",
       "      <td>OREO MARIN</td>\n",
       "      <td>F</td>\n",
       "      <td>Havanese</td>\n",
       "      <td>NaN</td>\n",
       "      <td>...</td>\n",
       "      <td>NaN</td>\n",
       "      <td>2005-09-01</td>\n",
       "      <td>Yes</td>\n",
       "      <td>No</td>\n",
       "      <td>Yes</td>\n",
       "      <td>2014-09-24 11:00:58.667</td>\n",
       "      <td>2014-09-24</td>\n",
       "      <td>2017-05-21</td>\n",
       "      <td>2005</td>\n",
       "      <td>18</td>\n",
       "    </tr>\n",
       "    <tr>\n",
       "      <th>1</th>\n",
       "      <td>Manhattan</td>\n",
       "      <td>1644518</td>\n",
       "      <td>23</td>\n",
       "      <td>Central Harlem</td>\n",
       "      <td>10026</td>\n",
       "      <td>10026</td>\n",
       "      <td>Jake Isbell</td>\n",
       "      <td>M</td>\n",
       "      <td>Puggle</td>\n",
       "      <td>NaN</td>\n",
       "      <td>...</td>\n",
       "      <td>NaN</td>\n",
       "      <td>2013-10-01</td>\n",
       "      <td>Yes</td>\n",
       "      <td>No</td>\n",
       "      <td>Yes</td>\n",
       "      <td>2014-10-01 22:16:25.653</td>\n",
       "      <td>2014-10-01</td>\n",
       "      <td>2017-10-01</td>\n",
       "      <td>2013</td>\n",
       "      <td>10</td>\n",
       "    </tr>\n",
       "    <tr>\n",
       "      <th>2</th>\n",
       "      <td>Manhattan</td>\n",
       "      <td>1644518</td>\n",
       "      <td>23</td>\n",
       "      <td>Central Harlem</td>\n",
       "      <td>10026</td>\n",
       "      <td>10026</td>\n",
       "      <td>OLIVIA</td>\n",
       "      <td>F</td>\n",
       "      <td>Havanese</td>\n",
       "      <td>NaN</td>\n",
       "      <td>...</td>\n",
       "      <td>BLACK</td>\n",
       "      <td>2008-03-01</td>\n",
       "      <td>Yes</td>\n",
       "      <td>No</td>\n",
       "      <td>Yes</td>\n",
       "      <td>2014-10-11 15:08:12.983</td>\n",
       "      <td>2014-10-11</td>\n",
       "      <td>2017-08-19</td>\n",
       "      <td>2008</td>\n",
       "      <td>15</td>\n",
       "    </tr>\n",
       "    <tr>\n",
       "      <th>3</th>\n",
       "      <td>Manhattan</td>\n",
       "      <td>1644518</td>\n",
       "      <td>23</td>\n",
       "      <td>Central Harlem</td>\n",
       "      <td>10026</td>\n",
       "      <td>10026</td>\n",
       "      <td>Henry</td>\n",
       "      <td>M</td>\n",
       "      <td>Unknown</td>\n",
       "      <td>Hound Mix</td>\n",
       "      <td>...</td>\n",
       "      <td>Brown</td>\n",
       "      <td>2007-07-01</td>\n",
       "      <td>Yes</td>\n",
       "      <td>No</td>\n",
       "      <td>Yes</td>\n",
       "      <td>2014-11-01 13:52:57.347</td>\n",
       "      <td>2014-11-01</td>\n",
       "      <td>2016-11-01</td>\n",
       "      <td>2007</td>\n",
       "      <td>16</td>\n",
       "    </tr>\n",
       "    <tr>\n",
       "      <th>4</th>\n",
       "      <td>Manhattan</td>\n",
       "      <td>1644518</td>\n",
       "      <td>23</td>\n",
       "      <td>Central Harlem</td>\n",
       "      <td>10026</td>\n",
       "      <td>10026</td>\n",
       "      <td>Milo</td>\n",
       "      <td>M</td>\n",
       "      <td>Yorkshire Terrier</td>\n",
       "      <td>NaN</td>\n",
       "      <td>...</td>\n",
       "      <td>Brown</td>\n",
       "      <td>2011-06-01</td>\n",
       "      <td>Yes</td>\n",
       "      <td>No</td>\n",
       "      <td>Yes</td>\n",
       "      <td>2014-11-04 21:11:14.157</td>\n",
       "      <td>2014-11-04</td>\n",
       "      <td>2016-11-04</td>\n",
       "      <td>2011</td>\n",
       "      <td>12</td>\n",
       "    </tr>\n",
       "  </tbody>\n",
       "</table>\n",
       "<p>5 rows × 22 columns</p>\n",
       "</div>"
      ],
      "text/plain": [
       "     borough  population  area_sqmi    neighborhood    zip  Owner Zip Code  \\\n",
       "0  Manhattan     1644518         23  Central Harlem  10026           10026   \n",
       "1  Manhattan     1644518         23  Central Harlem  10026           10026   \n",
       "2  Manhattan     1644518         23  Central Harlem  10026           10026   \n",
       "3  Manhattan     1644518         23  Central Harlem  10026           10026   \n",
       "4  Manhattan     1644518         23  Central Harlem  10026           10026   \n",
       "\n",
       "   Animal Name Animal Gender      Primary Breed Secondary Breed  ...  \\\n",
       "0   OREO MARIN             F           Havanese             NaN  ...   \n",
       "1  Jake Isbell             M             Puggle             NaN  ...   \n",
       "2       OLIVIA             F           Havanese             NaN  ...   \n",
       "3        Henry             M            Unknown       Hound Mix  ...   \n",
       "4        Milo              M  Yorkshire Terrier             NaN  ...   \n",
       "\n",
       "  Animal Third Color Animal Birth Spayed or Neut Guard or Trained Vaccinated  \\\n",
       "0                NaN   2005-09-01            Yes               No        Yes   \n",
       "1                NaN   2013-10-01            Yes               No        Yes   \n",
       "2              BLACK   2008-03-01            Yes               No        Yes   \n",
       "3              Brown   2007-07-01            Yes               No        Yes   \n",
       "4              Brown   2011-06-01            Yes               No        Yes   \n",
       "\n",
       "         Application Date License Issued Date License Expired Date  Year Age  \n",
       "0 2014-09-24 11:00:58.667          2014-09-24           2017-05-21  2005  18  \n",
       "1 2014-10-01 22:16:25.653          2014-10-01           2017-10-01  2013  10  \n",
       "2 2014-10-11 15:08:12.983          2014-10-11           2017-08-19  2008  15  \n",
       "3 2014-11-01 13:52:57.347          2014-11-01           2016-11-01  2007  16  \n",
       "4 2014-11-04 21:11:14.157          2014-11-04           2016-11-04  2011  12  \n",
       "\n",
       "[5 rows x 22 columns]"
      ]
     },
     "execution_count": 117,
     "metadata": {},
     "output_type": "execute_result"
    }
   ],
   "source": [
    "new_merged.head()"
   ]
  },
  {
   "cell_type": "markdown",
   "metadata": {},
   "source": [
    "## Make a bar graph of the top 5 breeds in each borough.\n",
    "\n",
    "How do you groupby and then only take the top X number? This is very crazy, so ask in Slack, or a TA, or our buddy ChatGPT."
   ]
  },
  {
   "cell_type": "code",
   "execution_count": null,
   "metadata": {},
   "outputs": [],
   "source": []
  },
  {
   "cell_type": "markdown",
   "metadata": {},
   "source": [
    "## What percentage of dogs are not guard dogs?"
   ]
  },
  {
   "cell_type": "code",
   "execution_count": 105,
   "metadata": {},
   "outputs": [
    {
     "data": {
      "text/plain": [
       "Guard or Trained\n",
       "No     0.999378\n",
       "Yes    0.000622\n",
       "Name: proportion, dtype: float64"
      ]
     },
     "execution_count": 105,
     "metadata": {},
     "output_type": "execute_result"
    }
   ],
   "source": [
    "df['Guard or Trained'].value_counts(normalize=True, dropna=False)"
   ]
  }
 ],
 "metadata": {
  "kernelspec": {
   "display_name": "Python 3 (ipykernel)",
   "language": "python",
   "name": "python3"
  },
  "language_info": {
   "codemirror_mode": {
    "name": "ipython",
    "version": 3
   },
   "file_extension": ".py",
   "mimetype": "text/x-python",
   "name": "python",
   "nbconvert_exporter": "python",
   "pygments_lexer": "ipython3",
   "version": "3.11.6"
  }
 },
 "nbformat": 4,
 "nbformat_minor": 4
}
